{
  "nbformat": 4,
  "nbformat_minor": 0,
  "metadata": {
    "kernelspec": {
      "language": "python",
      "display_name": "Python 3",
      "name": "python3"
    },
    "language_info": {
      "pygments_lexer": "ipython3",
      "nbconvert_exporter": "python",
      "version": "3.6.4",
      "file_extension": ".py",
      "codemirror_mode": {
        "name": "ipython",
        "version": 3
      },
      "name": "python",
      "mimetype": "text/x-python"
    },
    "colab": {
      "name": "price_prediction.ipynb",
      "provenance": [],
      "collapsed_sections": []
    }
  },
  "cells": [
    {
      "cell_type": "code",
      "metadata": {
        "id": "NeWVBhf1VxlH"
      },
      "source": [
        "\n",
        "import json\n",
        "import requests\n",
        "from keras.models import Sequential\n",
        "from keras.layers import Activation, Dense, Dropout, LSTM\n",
        "import matplotlib.pyplot as plt\n",
        "import numpy as np\n",
        "import pandas as pd\n",
        "import seaborn as sns\n",
        "from sklearn.metrics import mean_absolute_error\n"
      ],
      "execution_count": 1,
      "outputs": []
    },
    {
      "cell_type": "code",
      "metadata": {
        "_uuid": "d629ff2d2480ee46fbb7e2d37f6b5fab8052498a",
        "_cell_guid": "79c7e3d0-c299-4dcb-8224-4455121ee9b0",
        "trusted": true,
        "id": "6W__OM92pskF"
      },
      "source": [
        "endpoint = 'https://min-api.cryptocompare.com/data/histoday?fsym=BTC&tsym=CAD&limit=1000'\n",
        "# endpoint = 'https://min-api.cryptocompare.com/data/histoday?fsym=BTC&tsym=CAD&limit=1 &api_key={10d8ca18559b1bb12537daadeaf93a5b43961c23ca363c11ac5e33a3bae7cf80} '\n",
        "res = requests.get(endpoint)\n",
        "hist = pd.DataFrame(json.loads(res.content)['Data'])\n",
        "hist = hist.set_index('time')\n",
        "hist.index = pd.to_datetime(hist.index, unit='s')\n",
        "target_col = 'close'"
      ],
      "execution_count": 41,
      "outputs": []
    },
    {
      "cell_type": "code",
      "metadata": {
        "id": "IJ81oAj4sw6x"
      },
      "source": [
        "hist.drop([\"conversionType\", \"conversionSymbol\"], axis = 'columns', inplace = True)"
      ],
      "execution_count": 42,
      "outputs": []
    },
    {
      "cell_type": "code",
      "metadata": {
        "id": "QQ9tRh3fs6wX",
        "colab": {
          "base_uri": "https://localhost:8080/",
          "height": 450
        },
        "outputId": "e4a7fc3d-1a98-4387-cf12-3d24167a0deb"
      },
      "source": [
        "hist.head(1000)"
      ],
      "execution_count": 43,
      "outputs": [
        {
          "output_type": "execute_result",
          "data": {
            "text/html": [
              "<div>\n",
              "<style scoped>\n",
              "    .dataframe tbody tr th:only-of-type {\n",
              "        vertical-align: middle;\n",
              "    }\n",
              "\n",
              "    .dataframe tbody tr th {\n",
              "        vertical-align: top;\n",
              "    }\n",
              "\n",
              "    .dataframe thead th {\n",
              "        text-align: right;\n",
              "    }\n",
              "</style>\n",
              "<table border=\"1\" class=\"dataframe\">\n",
              "  <thead>\n",
              "    <tr style=\"text-align: right;\">\n",
              "      <th></th>\n",
              "      <th>high</th>\n",
              "      <th>low</th>\n",
              "      <th>open</th>\n",
              "      <th>volumefrom</th>\n",
              "      <th>volumeto</th>\n",
              "      <th>close</th>\n",
              "    </tr>\n",
              "    <tr>\n",
              "      <th>time</th>\n",
              "      <th></th>\n",
              "      <th></th>\n",
              "      <th></th>\n",
              "      <th></th>\n",
              "      <th></th>\n",
              "      <th></th>\n",
              "    </tr>\n",
              "  </thead>\n",
              "  <tbody>\n",
              "    <tr>\n",
              "      <th>2019-02-04</th>\n",
              "      <td>4429.00</td>\n",
              "      <td>4200.10</td>\n",
              "      <td>4278.20</td>\n",
              "      <td>143.05</td>\n",
              "      <td>6.235797e+05</td>\n",
              "      <td>4398.30</td>\n",
              "    </tr>\n",
              "    <tr>\n",
              "      <th>2019-02-05</th>\n",
              "      <td>4487.40</td>\n",
              "      <td>4260.30</td>\n",
              "      <td>4398.30</td>\n",
              "      <td>166.47</td>\n",
              "      <td>7.336674e+05</td>\n",
              "      <td>4458.50</td>\n",
              "    </tr>\n",
              "    <tr>\n",
              "      <th>2019-02-06</th>\n",
              "      <td>4483.30</td>\n",
              "      <td>4319.20</td>\n",
              "      <td>4458.50</td>\n",
              "      <td>210.44</td>\n",
              "      <td>9.207352e+05</td>\n",
              "      <td>4338.80</td>\n",
              "    </tr>\n",
              "    <tr>\n",
              "      <th>2019-02-07</th>\n",
              "      <td>4424.00</td>\n",
              "      <td>4285.60</td>\n",
              "      <td>4338.80</td>\n",
              "      <td>163.97</td>\n",
              "      <td>7.188891e+05</td>\n",
              "      <td>4388.60</td>\n",
              "    </tr>\n",
              "    <tr>\n",
              "      <th>2019-02-08</th>\n",
              "      <td>4760.00</td>\n",
              "      <td>4351.60</td>\n",
              "      <td>4388.60</td>\n",
              "      <td>290.13</td>\n",
              "      <td>1.319823e+06</td>\n",
              "      <td>4694.00</td>\n",
              "    </tr>\n",
              "    <tr>\n",
              "      <th>...</th>\n",
              "      <td>...</td>\n",
              "      <td>...</td>\n",
              "      <td>...</td>\n",
              "      <td>...</td>\n",
              "      <td>...</td>\n",
              "      <td>...</td>\n",
              "    </tr>\n",
              "    <tr>\n",
              "      <th>2021-10-26</th>\n",
              "      <td>78534.34</td>\n",
              "      <td>73969.34</td>\n",
              "      <td>78246.96</td>\n",
              "      <td>4423.61</td>\n",
              "      <td>3.409950e+08</td>\n",
              "      <td>74468.24</td>\n",
              "    </tr>\n",
              "    <tr>\n",
              "      <th>2021-10-27</th>\n",
              "      <td>76367.80</td>\n",
              "      <td>71728.57</td>\n",
              "      <td>74468.24</td>\n",
              "      <td>3774.03</td>\n",
              "      <td>2.783149e+08</td>\n",
              "      <td>72492.02</td>\n",
              "    </tr>\n",
              "    <tr>\n",
              "      <th>2021-10-28</th>\n",
              "      <td>77271.18</td>\n",
              "      <td>71315.13</td>\n",
              "      <td>72492.02</td>\n",
              "      <td>2643.69</td>\n",
              "      <td>1.966636e+08</td>\n",
              "      <td>75019.07</td>\n",
              "    </tr>\n",
              "    <tr>\n",
              "      <th>2021-10-29</th>\n",
              "      <td>78225.87</td>\n",
              "      <td>74125.67</td>\n",
              "      <td>75019.07</td>\n",
              "      <td>3843.91</td>\n",
              "      <td>2.923778e+08</td>\n",
              "      <td>77344.69</td>\n",
              "    </tr>\n",
              "    <tr>\n",
              "      <th>2021-10-30</th>\n",
              "      <td>77440.47</td>\n",
              "      <td>75004.25</td>\n",
              "      <td>77344.69</td>\n",
              "      <td>3736.98</td>\n",
              "      <td>2.851109e+08</td>\n",
              "      <td>76887.79</td>\n",
              "    </tr>\n",
              "  </tbody>\n",
              "</table>\n",
              "<p>1000 rows × 6 columns</p>\n",
              "</div>"
            ],
            "text/plain": [
              "                high       low      open  volumefrom      volumeto     close\n",
              "time                                                                        \n",
              "2019-02-04   4429.00   4200.10   4278.20      143.05  6.235797e+05   4398.30\n",
              "2019-02-05   4487.40   4260.30   4398.30      166.47  7.336674e+05   4458.50\n",
              "2019-02-06   4483.30   4319.20   4458.50      210.44  9.207352e+05   4338.80\n",
              "2019-02-07   4424.00   4285.60   4338.80      163.97  7.188891e+05   4388.60\n",
              "2019-02-08   4760.00   4351.60   4388.60      290.13  1.319823e+06   4694.00\n",
              "...              ...       ...       ...         ...           ...       ...\n",
              "2021-10-26  78534.34  73969.34  78246.96     4423.61  3.409950e+08  74468.24\n",
              "2021-10-27  76367.80  71728.57  74468.24     3774.03  2.783149e+08  72492.02\n",
              "2021-10-28  77271.18  71315.13  72492.02     2643.69  1.966636e+08  75019.07\n",
              "2021-10-29  78225.87  74125.67  75019.07     3843.91  2.923778e+08  77344.69\n",
              "2021-10-30  77440.47  75004.25  77344.69     3736.98  2.851109e+08  76887.79\n",
              "\n",
              "[1000 rows x 6 columns]"
            ]
          },
          "metadata": {},
          "execution_count": 43
        }
      ]
    },
    {
      "cell_type": "code",
      "metadata": {
        "id": "TNl-D1WAk9FR",
        "outputId": "04e672d1-479a-4eec-ac4b-e5a45e344ef0",
        "colab": {
          "base_uri": "https://localhost:8080/",
          "height": 450
        }
      },
      "source": [
        "hist = pd.read_csv('/content/data.csv')\n",
        "hist = pd.DataFrame(hist[2000:])\n",
        "hist = hist.dropna()\n",
        "hist = hist.set_index('Date')\n",
        "hist.index = pd.to_datetime(hist.index)\n",
        "target_col = 'Close'\n",
        "hist"
      ],
      "execution_count": 166,
      "outputs": [
        {
          "output_type": "execute_result",
          "data": {
            "text/html": [
              "<div>\n",
              "<style scoped>\n",
              "    .dataframe tbody tr th:only-of-type {\n",
              "        vertical-align: middle;\n",
              "    }\n",
              "\n",
              "    .dataframe tbody tr th {\n",
              "        vertical-align: top;\n",
              "    }\n",
              "\n",
              "    .dataframe thead th {\n",
              "        text-align: right;\n",
              "    }\n",
              "</style>\n",
              "<table border=\"1\" class=\"dataframe\">\n",
              "  <thead>\n",
              "    <tr style=\"text-align: right;\">\n",
              "      <th></th>\n",
              "      <th>Open</th>\n",
              "      <th>High</th>\n",
              "      <th>Low</th>\n",
              "      <th>Close</th>\n",
              "      <th>Adj Close</th>\n",
              "      <th>Volume</th>\n",
              "    </tr>\n",
              "    <tr>\n",
              "      <th>Date</th>\n",
              "      <th></th>\n",
              "      <th></th>\n",
              "      <th></th>\n",
              "      <th></th>\n",
              "      <th></th>\n",
              "      <th></th>\n",
              "    </tr>\n",
              "  </thead>\n",
              "  <tbody>\n",
              "    <tr>\n",
              "      <th>2020-07-09</th>\n",
              "      <td>9427.994141</td>\n",
              "      <td>9431.378906</td>\n",
              "      <td>9234.999023</td>\n",
              "      <td>9277.967773</td>\n",
              "      <td>9277.967773</td>\n",
              "      <td>1.800070e+10</td>\n",
              "    </tr>\n",
              "    <tr>\n",
              "      <th>2020-07-10</th>\n",
              "      <td>9273.357422</td>\n",
              "      <td>9287.471680</td>\n",
              "      <td>9118.001953</td>\n",
              "      <td>9278.807617</td>\n",
              "      <td>9278.807617</td>\n",
              "      <td>1.686004e+10</td>\n",
              "    </tr>\n",
              "    <tr>\n",
              "      <th>2020-07-11</th>\n",
              "      <td>9277.511719</td>\n",
              "      <td>9293.532227</td>\n",
              "      <td>9199.485352</td>\n",
              "      <td>9240.346680</td>\n",
              "      <td>9240.346680</td>\n",
              "      <td>1.324991e+10</td>\n",
              "    </tr>\n",
              "    <tr>\n",
              "      <th>2020-07-12</th>\n",
              "      <td>9241.054688</td>\n",
              "      <td>9319.418945</td>\n",
              "      <td>9197.450195</td>\n",
              "      <td>9276.500000</td>\n",
              "      <td>9276.500000</td>\n",
              "      <td>1.445236e+10</td>\n",
              "    </tr>\n",
              "    <tr>\n",
              "      <th>2020-07-13</th>\n",
              "      <td>9277.205078</td>\n",
              "      <td>9306.405273</td>\n",
              "      <td>9224.292969</td>\n",
              "      <td>9243.614258</td>\n",
              "      <td>9243.614258</td>\n",
              "      <td>1.751982e+10</td>\n",
              "    </tr>\n",
              "    <tr>\n",
              "      <th>...</th>\n",
              "      <td>...</td>\n",
              "      <td>...</td>\n",
              "      <td>...</td>\n",
              "      <td>...</td>\n",
              "      <td>...</td>\n",
              "      <td>...</td>\n",
              "    </tr>\n",
              "    <tr>\n",
              "      <th>2021-10-13</th>\n",
              "      <td>56038.257813</td>\n",
              "      <td>57688.660156</td>\n",
              "      <td>54370.972656</td>\n",
              "      <td>57401.097656</td>\n",
              "      <td>57401.097656</td>\n",
              "      <td>4.168425e+10</td>\n",
              "    </tr>\n",
              "    <tr>\n",
              "      <th>2021-10-14</th>\n",
              "      <td>57372.832031</td>\n",
              "      <td>58478.734375</td>\n",
              "      <td>56957.074219</td>\n",
              "      <td>57321.523438</td>\n",
              "      <td>57321.523438</td>\n",
              "      <td>3.661579e+10</td>\n",
              "    </tr>\n",
              "    <tr>\n",
              "      <th>2021-10-15</th>\n",
              "      <td>57345.902344</td>\n",
              "      <td>62757.128906</td>\n",
              "      <td>56868.144531</td>\n",
              "      <td>61593.949219</td>\n",
              "      <td>61593.949219</td>\n",
              "      <td>5.178008e+10</td>\n",
              "    </tr>\n",
              "    <tr>\n",
              "      <th>2021-10-16</th>\n",
              "      <td>61609.527344</td>\n",
              "      <td>62274.476563</td>\n",
              "      <td>60206.121094</td>\n",
              "      <td>60892.179688</td>\n",
              "      <td>60892.179688</td>\n",
              "      <td>3.425096e+10</td>\n",
              "    </tr>\n",
              "    <tr>\n",
              "      <th>2021-10-17</th>\n",
              "      <td>60833.542969</td>\n",
              "      <td>61338.250000</td>\n",
              "      <td>60380.968750</td>\n",
              "      <td>60864.769531</td>\n",
              "      <td>60864.769531</td>\n",
              "      <td>2.682875e+10</td>\n",
              "    </tr>\n",
              "  </tbody>\n",
              "</table>\n",
              "<p>463 rows × 6 columns</p>\n",
              "</div>"
            ],
            "text/plain": [
              "                    Open          High  ...     Adj Close        Volume\n",
              "Date                                    ...                            \n",
              "2020-07-09   9427.994141   9431.378906  ...   9277.967773  1.800070e+10\n",
              "2020-07-10   9273.357422   9287.471680  ...   9278.807617  1.686004e+10\n",
              "2020-07-11   9277.511719   9293.532227  ...   9240.346680  1.324991e+10\n",
              "2020-07-12   9241.054688   9319.418945  ...   9276.500000  1.445236e+10\n",
              "2020-07-13   9277.205078   9306.405273  ...   9243.614258  1.751982e+10\n",
              "...                  ...           ...  ...           ...           ...\n",
              "2021-10-13  56038.257813  57688.660156  ...  57401.097656  4.168425e+10\n",
              "2021-10-14  57372.832031  58478.734375  ...  57321.523438  3.661579e+10\n",
              "2021-10-15  57345.902344  62757.128906  ...  61593.949219  5.178008e+10\n",
              "2021-10-16  61609.527344  62274.476563  ...  60892.179688  3.425096e+10\n",
              "2021-10-17  60833.542969  61338.250000  ...  60864.769531  2.682875e+10\n",
              "\n",
              "[463 rows x 6 columns]"
            ]
          },
          "metadata": {},
          "execution_count": 166
        }
      ]
    },
    {
      "cell_type": "code",
      "metadata": {
        "trusted": true,
        "id": "0Ykh8CHfpskJ"
      },
      "source": [
        "def train_test_split(df, test_size=0.2):\n",
        "    split_row = len(df) - int(test_size * len(df))\n",
        "    train_data = df.iloc[:split_row]\n",
        "    test_data = df.iloc[split_row:]\n",
        "    return train_data, test_data"
      ],
      "execution_count": 167,
      "outputs": []
    },
    {
      "cell_type": "code",
      "metadata": {
        "trusted": true,
        "id": "PWKGJlxIpskM"
      },
      "source": [
        "train, test = train_test_split(hist, test_size=0.2)"
      ],
      "execution_count": 168,
      "outputs": []
    },
    {
      "cell_type": "code",
      "metadata": {
        "trusted": true,
        "id": "jqfrJbQhpskP"
      },
      "source": [
        "def line_plot(line1, line2, label1=None, label2=None, title='', lw=2):\n",
        "    fig, ax = plt.subplots(1, figsize=(13, 7))\n",
        "    ax.plot(line1, label=label1, linewidth=lw)\n",
        "    ax.plot(line2, label=label2, linewidth=lw)\n",
        "    ax.set_ylabel('price [CAD]', fontsize=14)\n",
        "    ax.set_title(title, fontsize=16)\n",
        "    ax.legend(loc='best', fontsize=16);"
      ],
      "execution_count": 169,
      "outputs": []
    },
    {
      "cell_type": "code",
      "metadata": {
        "trusted": true,
        "id": "9F_YTCCxpskS",
        "colab": {
          "base_uri": "https://localhost:8080/",
          "height": 428
        },
        "outputId": "2860ade1-549b-48ad-86ce-ee7ee3aea0bb"
      },
      "source": [
        "line_plot(train[target_col], test[target_col], 'training', 'test', title='')"
      ],
      "execution_count": 170,
      "outputs": [
        {
          "output_type": "display_data",
          "data": {
            "image/png": "[encoded data removed]",
            "text/plain": [
              "<Figure size 936x504 with 1 Axes>"
            ]
          },
          "metadata": {
            "needs_background": "light"
          }
        }
      ]
    },
    {
      "cell_type": "code",
      "metadata": {
        "trusted": true,
        "id": "iy-je3_bpskb"
      },
      "source": [
        "def normalise_zero_base(df):\n",
        "    return df / df.iloc[0] - 1\n",
        "\n",
        "def normalise_min_max(df):\n",
        "    return (df - df.min()) / (data.max() - df.min())"
      ],
      "execution_count": 171,
      "outputs": []
    },
    {
      "cell_type": "code",
      "metadata": {
        "trusted": true,
        "id": "zteL5amIpskh"
      },
      "source": [
        "def extract_window_data(df, window_len=5, zero_base=True):\n",
        "    window_data = []\n",
        "    for idx in range(len(df) - window_len):\n",
        "        tmp = df[idx: (idx + window_len)].copy()\n",
        "        if zero_base:\n",
        "            tmp = normalise_zero_base(tmp)\n",
        "        window_data.append(tmp.values)\n",
        "    return np.array(window_data)"
      ],
      "execution_count": 172,
      "outputs": []
    },
    {
      "cell_type": "code",
      "metadata": {
        "trusted": true,
        "id": "aTBbhnezpskk"
      },
      "source": [
        "def prepare_data(df, target_col, window_len=10, zero_base=True, test_size=0.2):\n",
        "    train_data, test_data = train_test_split(df, test_size=test_size)\n",
        "    X_train = extract_window_data(train_data, window_len, zero_base)\n",
        "    X_test = extract_window_data(test_data, window_len, zero_base)\n",
        "    y_train = train_data[target_col][window_len:].values\n",
        "    y_test = test_data[target_col][window_len:].values\n",
        "    if zero_base:\n",
        "        y_train = y_train / train_data[target_col][:-window_len].values - 1\n",
        "        y_test = y_test / test_data[target_col][:-window_len].values - 1\n",
        "\n",
        "    return train_data, test_data, X_train, X_test, y_train, y_test"
      ],
      "execution_count": 173,
      "outputs": []
    },
    {
      "cell_type": "code",
      "metadata": {
        "trusted": true,
        "id": "VjWtS2qJpskn"
      },
      "source": [
        "def build_lstm_model(input_data, output_size, neurons=100, activ_func='linear',\n",
        "                     dropout=0.2, loss='mse', optimizer='adam'):\n",
        "    model = Sequential()\n",
        "    model.add(LSTM(neurons, input_shape=(input_data.shape[1], input_data.shape[2])))\n",
        "    model.add(Dropout(dropout))\n",
        "    model.add(Dense(units=output_size))\n",
        "    model.add(Activation(activ_func))\n",
        "\n",
        "    model.compile(loss=loss, optimizer=optimizer)\n",
        "    return model"
      ],
      "execution_count": 174,
      "outputs": []
    },
    {
      "cell_type": "code",
      "metadata": {
        "trusted": true,
        "id": "aADcao3Qpskq"
      },
      "source": [
        "np.random.seed(42)\n",
        "window_len = 5\n",
        "test_size = 0.2\n",
        "zero_base = True\n",
        "lstm_neurons = 100\n",
        "epochs = 20\n",
        "batch_size = 32\n",
        "loss = 'mse'\n",
        "dropout = 0.2\n",
        "optimizer = 'adam'"
      ],
      "execution_count": 175,
      "outputs": []
    },
    {
      "cell_type": "code",
      "metadata": {
        "trusted": true,
        "id": "rAw5VBtwpskt"
      },
      "source": [
        "train, test, X_train, X_test, y_train, y_test = prepare_data(\n",
        "    hist, target_col, window_len=window_len, zero_base=zero_base, test_size=test_size)"
      ],
      "execution_count": 176,
      "outputs": []
    },
    {
      "cell_type": "code",
      "metadata": {
        "trusted": true,
        "id": "E5T9OAwQpskw",
        "colab": {
          "base_uri": "https://localhost:8080/"
        },
        "outputId": "f2132783-b270-4266-a840-e02d6064a87c"
      },
      "source": [
        "model = build_lstm_model(\n",
        "    X_train, output_size=1, neurons=lstm_neurons, dropout=dropout, loss=loss,\n",
        "    optimizer=optimizer)\n",
        "history = model.fit(\n",
        "    X_train, y_train, validation_data=(X_test, y_test), epochs=epochs, batch_size=batch_size, verbose=1, shuffle=True)"
      ],
      "execution_count": 177,
      "outputs": [
        {
          "output_type": "stream",
          "name": "stdout",
          "text": [
            "Epoch 1/20\n",
            "12/12 [==============================] - 2s 44ms/step - loss: 0.0065 - val_loss: 0.0038\n",
            "Epoch 2/20\n",
            "12/12 [==============================] - 0s 7ms/step - loss: 0.0035 - val_loss: 0.0030\n",
            "Epoch 3/20\n",
            "12/12 [==============================] - 0s 6ms/step - loss: 0.0032 - val_loss: 0.0026\n",
            "Epoch 4/20\n",
            "12/12 [==============================] - 0s 8ms/step - loss: 0.0029 - val_loss: 0.0024\n",
            "Epoch 5/20\n",
            "12/12 [==============================] - 0s 7ms/step - loss: 0.0027 - val_loss: 0.0022\n",
            "Epoch 6/20\n",
            "12/12 [==============================] - 0s 6ms/step - loss: 0.0025 - val_loss: 0.0022\n",
            "Epoch 7/20\n",
            "12/12 [==============================] - 0s 6ms/step - loss: 0.0024 - val_loss: 0.0020\n",
            "Epoch 8/20\n",
            "12/12 [==============================] - 0s 6ms/step - loss: 0.0026 - val_loss: 0.0019\n",
            "Epoch 9/20\n",
            "12/12 [==============================] - 0s 6ms/step - loss: 0.0022 - val_loss: 0.0019\n",
            "Epoch 10/20\n",
            "12/12 [==============================] - 0s 6ms/step - loss: 0.0022 - val_loss: 0.0018\n",
            "Epoch 11/20\n",
            "12/12 [==============================] - 0s 7ms/step - loss: 0.0022 - val_loss: 0.0018\n",
            "Epoch 12/20\n",
            "12/12 [==============================] - 0s 7ms/step - loss: 0.0021 - val_loss: 0.0017\n",
            "Epoch 13/20\n",
            "12/12 [==============================] - 0s 7ms/step - loss: 0.0020 - val_loss: 0.0018\n",
            "Epoch 14/20\n",
            "12/12 [==============================] - 0s 7ms/step - loss: 0.0020 - val_loss: 0.0017\n",
            "Epoch 15/20\n",
            "12/12 [==============================] - 0s 6ms/step - loss: 0.0021 - val_loss: 0.0018\n",
            "Epoch 16/20\n",
            "12/12 [==============================] - 0s 6ms/step - loss: 0.0020 - val_loss: 0.0017\n",
            "Epoch 17/20\n",
            "12/12 [==============================] - 0s 7ms/step - loss: 0.0021 - val_loss: 0.0017\n",
            "Epoch 18/20\n",
            "12/12 [==============================] - 0s 7ms/step - loss: 0.0019 - val_loss: 0.0016\n",
            "Epoch 19/20\n",
            "12/12 [==============================] - 0s 6ms/step - loss: 0.0019 - val_loss: 0.0016\n",
            "Epoch 20/20\n",
            "12/12 [==============================] - 0s 6ms/step - loss: 0.0019 - val_loss: 0.0016\n"
          ]
        }
      ]
    },
    {
      "cell_type": "code",
      "metadata": {
        "id": "qhMsatri0miT",
        "colab": {
          "base_uri": "https://localhost:8080/",
          "height": 295
        },
        "outputId": "fb2a8ccc-a615-4751-d614-ca3fd10aa776"
      },
      "source": [
        "import matplotlib.pyplot as plt\n",
        "plt.plot(history.history['loss'],'r',linewidth=2, label='Train loss')\n",
        "plt.plot(history.history['val_loss'], 'g',linewidth=2, label='Validation loss')\n",
        "plt.title('LSTM')\n",
        "plt.xlabel('Epochs')\n",
        "plt.ylabel('MSE')\n",
        "plt.show()"
      ],
      "execution_count": 178,
      "outputs": [
        {
          "output_type": "display_data",
          "data": {
            "image/png": "[encoded data removed]",
            "text/plain": [
              "<Figure size 432x288 with 1 Axes>"
            ]
          },
          "metadata": {
            "needs_background": "light"
          }
        }
      ]
    },
    {
      "cell_type": "code",
      "metadata": {
        "trusted": true,
        "id": "mS6SPIGNpskz",
        "colab": {
          "base_uri": "https://localhost:8080/"
        },
        "outputId": "6ddca7ca-dd01-4e61-f391-e8298a928ed1"
      },
      "source": [
        "targets = test[target_col][window_len:]\n",
        "preds = model.predict(X_test).squeeze()\n",
        "mean_absolute_error(preds, y_test)"
      ],
      "execution_count": 179,
      "outputs": [
        {
          "output_type": "execute_result",
          "data": {
            "text/plain": [
              "0.031220683428616527"
            ]
          },
          "metadata": {},
          "execution_count": 179
        }
      ]
    },
    {
      "cell_type": "code",
      "metadata": {
        "id": "sbhTW5T6zVAU",
        "colab": {
          "base_uri": "https://localhost:8080/"
        },
        "outputId": "ca719623-4fac-4dd3-a31f-de5c4ddb0a5d"
      },
      "source": [
        "from sklearn.metrics import mean_squared_error\n",
        "MAE=mean_squared_error(preds, y_test)\n",
        "MAE\n"
      ],
      "execution_count": 180,
      "outputs": [
        {
          "output_type": "execute_result",
          "data": {
            "text/plain": [
              "0.001632451756150443"
            ]
          },
          "metadata": {},
          "execution_count": 180
        }
      ]
    },
    {
      "cell_type": "code",
      "metadata": {
        "id": "jnFOCI9ezb8T",
        "colab": {
          "base_uri": "https://localhost:8080/"
        },
        "outputId": "400d45ea-eea0-4b52-cbea-6d1b89da1698"
      },
      "source": [
        "from sklearn.metrics import r2_score\n",
        "R2=r2_score(y_test, preds)\n",
        "R2"
      ],
      "execution_count": 181,
      "outputs": [
        {
          "output_type": "execute_result",
          "data": {
            "text/plain": [
              "0.7723570172639962"
            ]
          },
          "metadata": {},
          "execution_count": 181
        }
      ]
    },
    {
      "cell_type": "code",
      "metadata": {
        "trusted": true,
        "id": "4jU0wERepsk2",
        "colab": {
          "base_uri": "https://localhost:8080/",
          "height": 428
        },
        "outputId": "ebcbd315-0512-41c1-d358-eeeea2a79946"
      },
      "source": [
        "preds = test[target_col].values[:-window_len] * (preds + 1)\n",
        "preds = pd.Series(index=targets.index, data=preds)\n",
        "line_plot(targets, preds, 'actual', 'prediction', lw=3)"
      ],
      "execution_count": 182,
      "outputs": [
        {
          "output_type": "display_data",
          "data": {
            "image/png": "[encoded data removed]",
            "text/plain": [
              "<Figure size 936x504 with 1 Axes>"
            ]
          },
          "metadata": {
            "needs_background": "light"
          }
        }
      ]
    },
    {
      "cell_type": "code",
      "metadata": {
        "id": "4xTBm2UHdozS"
      },
      "source": [
        ""
      ],
      "execution_count": 58,
      "outputs": []
    }
  ]
}